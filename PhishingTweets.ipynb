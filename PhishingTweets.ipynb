{
 "cells": [
  {
   "cell_type": "code",
   "execution_count": 23,
   "id": "db1b9728",
   "metadata": {},
   "outputs": [],
   "source": [
    "import pandas as pd\n",
    "import gspread\n",
    "from pymisp import PyMISP, MISPAttribute\n",
    "import plotly.graph_objects as go\n",
    "import warnings"
   ]
  },
  {
   "attachments": {},
   "cell_type": "markdown",
   "id": "ebe0ebf5",
   "metadata": {},
   "source": [
    "1. Create a PowerAutomate Workflow From *'Save a Tweets to a Google Sheet'* Template to Scrap/Extract Tweets with #Phishing\n",
    "2. Configure a Google Cloud service to interact with the Google Sheet."
   ]
  },
  {
   "cell_type": "code",
   "execution_count": 2,
   "id": "da2c79d0",
   "metadata": {},
   "outputs": [],
   "source": [
    "gc = gspread.service_account(filename=r\".\\phishingioc-keys.json\")\n",
    "sh = gc.open(\"PhishingIoCs\")\n",
    "worksheet = sh.sheet1"
   ]
  },
  {
   "cell_type": "code",
   "execution_count": 3,
   "id": "8a10fc5e",
   "metadata": {},
   "outputs": [],
   "source": [
    "# Regex patterns\n",
    "patternIP4 = r\"(?P<ip4>[0-9]{1,3}\\.[0-9]{1,3}\\.[0-9]{1,3}\\.[0-9]{1,3})\"\n",
    "patternUrl = r\"(?P<url>hxxps?://[^\\s]+)\"\n",
    "patternEma = r\"(?P<email>[A-Za-z0-9._%+-]+@[A-Za-z0-9.-]+\\.[A-Z|a-z]{2,7})\"\n",
    "patternDom = r\"(?P<domain>(?:[a-z0-9](?:[a-z0-9-]{0,61}[a-z0-9])?\\[\\.\\])+[a-z0-9][a-z0-9-]{0,61}[a-z0-9])\""
   ]
  },
  {
   "cell_type": "code",
   "execution_count": 4,
   "id": "f4271886",
   "metadata": {},
   "outputs": [],
   "source": [
    "# Tweet Text/Body\n",
    "IoCRaw_list = worksheet.col_values(3)\n",
    "IoC_raw = pd.DataFrame(IoCRaw_list[1:], columns = ['TweetBody'])"
   ]
  },
  {
   "cell_type": "code",
   "execution_count": 5,
   "id": "1216a311",
   "metadata": {},
   "outputs": [],
   "source": [
    "# Tweet Id\n",
    "Tid_list = worksheet.col_values(7)\n",
    "IoC_df = pd.DataFrame(Tid_list[1:], columns = ['TweetID'])"
   ]
  },
  {
   "cell_type": "code",
   "execution_count": 6,
   "id": "13fc2747",
   "metadata": {},
   "outputs": [],
   "source": [
    "# Extract IoCs\n",
    "IoC_df['IoCURLs'] = IoC_raw.TweetBody.str.extract(patternUrl)\n",
    "IoC_df['IoCIPv4s'] = IoC_raw.TweetBody.str.extract(patternIP4)\n",
    "IoC_df['IoCEmails'] = IoC_raw.TweetBody.str.extract(patternEma)\n",
    "IoC_df['IoCDomains'] = IoC_raw.TweetBody.str.extract(patternDom)"
   ]
  },
  {
   "cell_type": "code",
   "execution_count": 7,
   "id": "68c55c13",
   "metadata": {},
   "outputs": [
    {
     "data": {
      "text/html": [
       "<div>\n",
       "<style scoped>\n",
       "    .dataframe tbody tr th:only-of-type {\n",
       "        vertical-align: middle;\n",
       "    }\n",
       "\n",
       "    .dataframe tbody tr th {\n",
       "        vertical-align: top;\n",
       "    }\n",
       "\n",
       "    .dataframe thead th {\n",
       "        text-align: right;\n",
       "    }\n",
       "</style>\n",
       "<table border=\"1\" class=\"dataframe\">\n",
       "  <thead>\n",
       "    <tr style=\"text-align: right;\">\n",
       "      <th></th>\n",
       "      <th>TweetID</th>\n",
       "      <th>IoCURLs</th>\n",
       "      <th>IoCIPv4s</th>\n",
       "      <th>IoCEmails</th>\n",
       "      <th>IoCDomains</th>\n",
       "    </tr>\n",
       "  </thead>\n",
       "  <tbody>\n",
       "    <tr>\n",
       "      <th>0</th>\n",
       "      <td>1629050806971297792</td>\n",
       "      <td>hxxp://rogil75702[.]temp[.]swtest[.]ru/c49f9</td>\n",
       "      <td>NaN</td>\n",
       "      <td>NaN</td>\n",
       "      <td>rogil75702[.]temp[.]swtest[.]ru</td>\n",
       "    </tr>\n",
       "    <tr>\n",
       "      <th>1</th>\n",
       "      <td>1629058798240337924</td>\n",
       "      <td>hxxps://stemcommunitty[.]site/</td>\n",
       "      <td>NaN</td>\n",
       "      <td>NaN</td>\n",
       "      <td>stemcommunitty[.]site</td>\n",
       "    </tr>\n",
       "    <tr>\n",
       "      <th>2</th>\n",
       "      <td>1629058762970365954</td>\n",
       "      <td>hxxps://paypay-login[.]huahuayufeng[.]com/all/...</td>\n",
       "      <td>155.94.128.125</td>\n",
       "      <td>NaN</td>\n",
       "      <td>paypay-login[.]huahuayufeng[.]com</td>\n",
       "    </tr>\n",
       "    <tr>\n",
       "      <th>3</th>\n",
       "      <td>1629058784483020800</td>\n",
       "      <td>hxxps://stemcommunitty[.]site/</td>\n",
       "      <td>NaN</td>\n",
       "      <td>NaN</td>\n",
       "      <td>stemcommunitty[.]site</td>\n",
       "    </tr>\n",
       "    <tr>\n",
       "      <th>4</th>\n",
       "      <td>1629072062672408576</td>\n",
       "      <td>hxxps://metamasek.cc/</td>\n",
       "      <td>103.149.92.146</td>\n",
       "      <td>NaN</td>\n",
       "      <td>NaN</td>\n",
       "    </tr>\n",
       "    <tr>\n",
       "      <th>...</th>\n",
       "      <td>...</td>\n",
       "      <td>...</td>\n",
       "      <td>...</td>\n",
       "      <td>...</td>\n",
       "      <td>...</td>\n",
       "    </tr>\n",
       "    <tr>\n",
       "      <th>114</th>\n",
       "      <td>1630807958715023360</td>\n",
       "      <td>NaN</td>\n",
       "      <td>NaN</td>\n",
       "      <td>NaN</td>\n",
       "      <td>NaN</td>\n",
       "    </tr>\n",
       "    <tr>\n",
       "      <th>115</th>\n",
       "      <td>1630823171052937217</td>\n",
       "      <td>NaN</td>\n",
       "      <td>NaN</td>\n",
       "      <td>NaN</td>\n",
       "      <td>NaN</td>\n",
       "    </tr>\n",
       "    <tr>\n",
       "      <th>116</th>\n",
       "      <td>1630839290623062016</td>\n",
       "      <td>NaN</td>\n",
       "      <td>NaN</td>\n",
       "      <td>NaN</td>\n",
       "      <td>NaN</td>\n",
       "    </tr>\n",
       "    <tr>\n",
       "      <th>117</th>\n",
       "      <td>1630854386594500608</td>\n",
       "      <td>NaN</td>\n",
       "      <td>NaN</td>\n",
       "      <td>NaN</td>\n",
       "      <td>NaN</td>\n",
       "    </tr>\n",
       "    <tr>\n",
       "      <th>118</th>\n",
       "      <td>1630869234162204673</td>\n",
       "      <td>NaN</td>\n",
       "      <td>NaN</td>\n",
       "      <td>NaN</td>\n",
       "      <td>NaN</td>\n",
       "    </tr>\n",
       "  </tbody>\n",
       "</table>\n",
       "<p>119 rows × 5 columns</p>\n",
       "</div>"
      ],
      "text/plain": [
       "                 TweetID                                            IoCURLs  \\\n",
       "0    1629050806971297792       hxxp://rogil75702[.]temp[.]swtest[.]ru/c49f9   \n",
       "1    1629058798240337924                     hxxps://stemcommunitty[.]site/   \n",
       "2    1629058762970365954  hxxps://paypay-login[.]huahuayufeng[.]com/all/...   \n",
       "3    1629058784483020800                     hxxps://stemcommunitty[.]site/   \n",
       "4    1629072062672408576                              hxxps://metamasek.cc/   \n",
       "..                   ...                                                ...   \n",
       "114  1630807958715023360                                                NaN   \n",
       "115  1630823171052937217                                                NaN   \n",
       "116  1630839290623062016                                                NaN   \n",
       "117  1630854386594500608                                                NaN   \n",
       "118  1630869234162204673                                                NaN   \n",
       "\n",
       "           IoCIPv4s IoCEmails                         IoCDomains  \n",
       "0               NaN       NaN    rogil75702[.]temp[.]swtest[.]ru  \n",
       "1               NaN       NaN              stemcommunitty[.]site  \n",
       "2    155.94.128.125       NaN  paypay-login[.]huahuayufeng[.]com  \n",
       "3               NaN       NaN              stemcommunitty[.]site  \n",
       "4    103.149.92.146       NaN                                NaN  \n",
       "..              ...       ...                                ...  \n",
       "114             NaN       NaN                                NaN  \n",
       "115             NaN       NaN                                NaN  \n",
       "116             NaN       NaN                                NaN  \n",
       "117             NaN       NaN                                NaN  \n",
       "118             NaN       NaN                                NaN  \n",
       "\n",
       "[119 rows x 5 columns]"
      ]
     },
     "execution_count": 7,
     "metadata": {},
     "output_type": "execute_result"
    }
   ],
   "source": [
    "IoC_df"
   ]
  },
  {
   "cell_type": "code",
   "execution_count": 8,
   "id": "5d394b81",
   "metadata": {},
   "outputs": [
    {
     "data": {
      "text/html": [
       "<div>\n",
       "<style scoped>\n",
       "    .dataframe tbody tr th:only-of-type {\n",
       "        vertical-align: middle;\n",
       "    }\n",
       "\n",
       "    .dataframe tbody tr th {\n",
       "        vertical-align: top;\n",
       "    }\n",
       "\n",
       "    .dataframe thead th {\n",
       "        text-align: right;\n",
       "    }\n",
       "</style>\n",
       "<table border=\"1\" class=\"dataframe\">\n",
       "  <thead>\n",
       "    <tr style=\"text-align: right;\">\n",
       "      <th></th>\n",
       "      <th>TweetID</th>\n",
       "      <th>IoCURLs</th>\n",
       "      <th>IoCIPv4s</th>\n",
       "      <th>IoCEmails</th>\n",
       "      <th>IoCDomains</th>\n",
       "    </tr>\n",
       "  </thead>\n",
       "  <tbody>\n",
       "    <tr>\n",
       "      <th>0</th>\n",
       "      <td>1629050806971297792</td>\n",
       "      <td>hxxp://rogil75702[.]temp[.]swtest[.]ru/c49f9</td>\n",
       "      <td>NaN</td>\n",
       "      <td>NaN</td>\n",
       "      <td>rogil75702[.]temp[.]swtest[.]ru</td>\n",
       "    </tr>\n",
       "    <tr>\n",
       "      <th>1</th>\n",
       "      <td>1629058798240337924</td>\n",
       "      <td>hxxps://stemcommunitty[.]site/</td>\n",
       "      <td>NaN</td>\n",
       "      <td>NaN</td>\n",
       "      <td>stemcommunitty[.]site</td>\n",
       "    </tr>\n",
       "    <tr>\n",
       "      <th>2</th>\n",
       "      <td>1629058762970365954</td>\n",
       "      <td>hxxps://paypay-login[.]huahuayufeng[.]com/all/...</td>\n",
       "      <td>155.94.128.125</td>\n",
       "      <td>NaN</td>\n",
       "      <td>paypay-login[.]huahuayufeng[.]com</td>\n",
       "    </tr>\n",
       "    <tr>\n",
       "      <th>3</th>\n",
       "      <td>1629058784483020800</td>\n",
       "      <td>hxxps://stemcommunitty[.]site/</td>\n",
       "      <td>NaN</td>\n",
       "      <td>NaN</td>\n",
       "      <td>stemcommunitty[.]site</td>\n",
       "    </tr>\n",
       "    <tr>\n",
       "      <th>4</th>\n",
       "      <td>1629072062672408576</td>\n",
       "      <td>hxxps://metamasek.cc/</td>\n",
       "      <td>103.149.92.146</td>\n",
       "      <td>NaN</td>\n",
       "      <td>NaN</td>\n",
       "    </tr>\n",
       "    <tr>\n",
       "      <th>5</th>\n",
       "      <td>1629086571063349249</td>\n",
       "      <td>hxxps://demo3[.]cloudwp[.]dev/trial-2w15v757/r...</td>\n",
       "      <td>NaN</td>\n",
       "      <td>NaN</td>\n",
       "      <td>demo3[.]cloudwp[.]dev</td>\n",
       "    </tr>\n",
       "    <tr>\n",
       "      <th>6</th>\n",
       "      <td>1629147729430552578</td>\n",
       "      <td>NaN</td>\n",
       "      <td>186.2.171.2</td>\n",
       "      <td>NaN</td>\n",
       "      <td>buradanaksen[.]site</td>\n",
       "    </tr>\n",
       "    <tr>\n",
       "      <th>7</th>\n",
       "      <td>1629161485929783298</td>\n",
       "      <td>hxxp://xn--80aaahorunoimsf3p.xn--p1ai/apps/</td>\n",
       "      <td>NaN</td>\n",
       "      <td>NaN</td>\n",
       "      <td>NaN</td>\n",
       "    </tr>\n",
       "    <tr>\n",
       "      <th>8</th>\n",
       "      <td>1629191709438492672</td>\n",
       "      <td>hxxps://accessolocalizzato[.]com/</td>\n",
       "      <td>NaN</td>\n",
       "      <td>NaN</td>\n",
       "      <td>accessolocalizzato[.]com</td>\n",
       "    </tr>\n",
       "    <tr>\n",
       "      <th>9</th>\n",
       "      <td>1629222421105344512</td>\n",
       "      <td>NaN</td>\n",
       "      <td>NaN</td>\n",
       "      <td>NaN</td>\n",
       "      <td>myshopify[.]com</td>\n",
       "    </tr>\n",
       "    <tr>\n",
       "      <th>10</th>\n",
       "      <td>1629283734057828352</td>\n",
       "      <td>hxxps://www[.]induoc-goto-etc-jp[.]blockchainl...</td>\n",
       "      <td>NaN</td>\n",
       "      <td>NaN</td>\n",
       "      <td>www[.]induoc-goto-etc-jp[.]blockchainltd[.]com...</td>\n",
       "    </tr>\n",
       "    <tr>\n",
       "      <th>11</th>\n",
       "      <td>1629283752936452096</td>\n",
       "      <td>hxxp://www[.]kuerennkaycoato[.]co[.]jp[.]kuerc...</td>\n",
       "      <td>155.94.184.75</td>\n",
       "      <td>NaN</td>\n",
       "      <td>www[.]kuerennkaycoato[.]co[.]jp[.]kuercnnkayce...</td>\n",
       "    </tr>\n",
       "    <tr>\n",
       "      <th>12</th>\n",
       "      <td>1629313508683952128</td>\n",
       "      <td>hxxps://denmarksexcams[.]com/_ap/signin?_encod...</td>\n",
       "      <td>NaN</td>\n",
       "      <td>NaN</td>\n",
       "      <td>denmarksexcams[.]com</td>\n",
       "    </tr>\n",
       "    <tr>\n",
       "      <th>13</th>\n",
       "      <td>1629313943150948352</td>\n",
       "      <td>hxxps://www[.]amazon[.]wokabj[.]top/</td>\n",
       "      <td>106.75.17.135</td>\n",
       "      <td>NaN</td>\n",
       "      <td>www[.]amazon[.]wokabj[.]top</td>\n",
       "    </tr>\n",
       "    <tr>\n",
       "      <th>14</th>\n",
       "      <td>1629328443375534080</td>\n",
       "      <td>hxxps://jabd-876[.]web[.]app/</td>\n",
       "      <td>NaN</td>\n",
       "      <td>NaN</td>\n",
       "      <td>jabd-876[.]web[.]app</td>\n",
       "    </tr>\n",
       "    <tr>\n",
       "      <th>15</th>\n",
       "      <td>1629343457662717953</td>\n",
       "      <td>hxxps://cariareynolds[.]com/link[.]html</td>\n",
       "      <td>NaN</td>\n",
       "      <td>NaN</td>\n",
       "      <td>cariareynolds[.]com</td>\n",
       "    </tr>\n",
       "    <tr>\n",
       "      <th>16</th>\n",
       "      <td>1629344078792884227</td>\n",
       "      <td>hxxps://concepthairandbeauty[.]com[.]au/</td>\n",
       "      <td>NaN</td>\n",
       "      <td>NaN</td>\n",
       "      <td>concepthairandbeauty[.]com[.]au</td>\n",
       "    </tr>\n",
       "    <tr>\n",
       "      <th>17</th>\n",
       "      <td>1629374374531792899</td>\n",
       "      <td>hxxp://www[.]kueronekayaeotn[.]co[.]jp[.]kuero...</td>\n",
       "      <td>155.94.184.75</td>\n",
       "      <td>NaN</td>\n",
       "      <td>www[.]kueronekayaeotn[.]co[.]jp[.]kuerocekayac...</td>\n",
       "    </tr>\n",
       "    <tr>\n",
       "      <th>18</th>\n",
       "      <td>1629477974859816960</td>\n",
       "      <td>hxxp://cs02282[.]tw1[.]ru/agri-connexion/63284...</td>\n",
       "      <td>NaN</td>\n",
       "      <td>NaN</td>\n",
       "      <td>cs02282[.]tw1[.]ru</td>\n",
       "    </tr>\n",
       "    <tr>\n",
       "      <th>19</th>\n",
       "      <td>1629524676174045186</td>\n",
       "      <td>hxxps://nordgym29[.]ru/bitrix/admin/bp/</td>\n",
       "      <td>NaN</td>\n",
       "      <td>NaN</td>\n",
       "      <td>nordgym29[.]ru</td>\n",
       "    </tr>\n",
       "    <tr>\n",
       "      <th>20</th>\n",
       "      <td>1629540205479821312</td>\n",
       "      <td>hxxp://www[.]kuerennkaycoato[.]co[.]jp[.]kuerc...</td>\n",
       "      <td>155.94.184.75</td>\n",
       "      <td>NaN</td>\n",
       "      <td>www[.]kuerennkaycoato[.]co[.]jp[.]kuercnnkayce...</td>\n",
       "    </tr>\n",
       "    <tr>\n",
       "      <th>21</th>\n",
       "      <td>1629555497224241155</td>\n",
       "      <td>NaN</td>\n",
       "      <td>185.149.120.137</td>\n",
       "      <td>NaN</td>\n",
       "      <td>NaN</td>\n",
       "    </tr>\n",
       "    <tr>\n",
       "      <th>22</th>\n",
       "      <td>1629600891161522176</td>\n",
       "      <td>hxxp://www[.]pockctaaed[.]co[.]jp[.]sbebjv[.]t...</td>\n",
       "      <td>155.94.184.151</td>\n",
       "      <td>NaN</td>\n",
       "      <td>www[.]pockctaaed[.]co[.]jp[.]sbebjv[.]top</td>\n",
       "    </tr>\n",
       "    <tr>\n",
       "      <th>23</th>\n",
       "      <td>1629690445495402498</td>\n",
       "      <td>hxxps://member.garage-verge.com/</td>\n",
       "      <td>204.44.95.128</td>\n",
       "      <td>NaN</td>\n",
       "      <td>NaN</td>\n",
       "    </tr>\n",
       "    <tr>\n",
       "      <th>24</th>\n",
       "      <td>1629690664211431424</td>\n",
       "      <td>NaN</td>\n",
       "      <td>NaN</td>\n",
       "      <td>NaN</td>\n",
       "      <td>clientesluiza[.]com</td>\n",
       "    </tr>\n",
       "    <tr>\n",
       "      <th>25</th>\n",
       "      <td>1629691248477892608</td>\n",
       "      <td>NaN</td>\n",
       "      <td>NaN</td>\n",
       "      <td>NaN</td>\n",
       "      <td>clientesluiza[.]com</td>\n",
       "    </tr>\n",
       "    <tr>\n",
       "      <th>26</th>\n",
       "      <td>1629706586527547393</td>\n",
       "      <td>hxxps://ahmed13m[.]github[.]io/NetFlix-Clone</td>\n",
       "      <td>NaN</td>\n",
       "      <td>NaN</td>\n",
       "      <td>ahmed13m[.]github[.]io</td>\n",
       "    </tr>\n",
       "    <tr>\n",
       "      <th>27</th>\n",
       "      <td>1629735554936963072</td>\n",
       "      <td>hxxps://3[.]233[.]90[.]130/mua/USER/scis/j6UnV...</td>\n",
       "      <td>NaN</td>\n",
       "      <td>NaN</td>\n",
       "      <td>3[.]233[.]90[.]130</td>\n",
       "    </tr>\n",
       "    <tr>\n",
       "      <th>28</th>\n",
       "      <td>1629750912204898305</td>\n",
       "      <td>hxxp://nkum-5354[.]web[.]app/</td>\n",
       "      <td>NaN</td>\n",
       "      <td>NaN</td>\n",
       "      <td>nkum-5354[.]web[.]app</td>\n",
       "    </tr>\n",
       "    <tr>\n",
       "      <th>29</th>\n",
       "      <td>1629766070000054272</td>\n",
       "      <td>hxxps://intesasanpaolo[.]allsportsupdate24[.]com/</td>\n",
       "      <td>NaN</td>\n",
       "      <td>NaN</td>\n",
       "      <td>intesasanpaolo[.]allsportsupdate24[.]com</td>\n",
       "    </tr>\n",
       "    <tr>\n",
       "      <th>30</th>\n",
       "      <td>1629765502867324930</td>\n",
       "      <td>hxxp://vrgospelmusic[.]com/accessfilesvpms/</td>\n",
       "      <td>NaN</td>\n",
       "      <td>NaN</td>\n",
       "      <td>vrgospelmusic[.]com</td>\n",
       "    </tr>\n",
       "    <tr>\n",
       "      <th>31</th>\n",
       "      <td>1629766058084007937</td>\n",
       "      <td>hxxps://intesasanpaolo[.]allsportsupdate24[.]com/</td>\n",
       "      <td>NaN</td>\n",
       "      <td>NaN</td>\n",
       "      <td>intesasanpaolo[.]allsportsupdate24[.]com</td>\n",
       "    </tr>\n",
       "    <tr>\n",
       "      <th>32</th>\n",
       "      <td>1629841611088699394</td>\n",
       "      <td>hxxps://lkrenwqutwspxa[.]clippertwa[.]workers[...</td>\n",
       "      <td>NaN</td>\n",
       "      <td>NaN</td>\n",
       "      <td>lkrenwqutwspxa[.]clippertwa[.]workers[.]dev</td>\n",
       "    </tr>\n",
       "    <tr>\n",
       "      <th>33</th>\n",
       "      <td>1629886525230964746</td>\n",
       "      <td>hxxp://jelly-creative-bean[.]glitch[.]me/ouyte...</td>\n",
       "      <td>NaN</td>\n",
       "      <td>NaN</td>\n",
       "      <td>jelly-creative-bean[.]glitch[.]me</td>\n",
       "    </tr>\n",
       "    <tr>\n",
       "      <th>34</th>\n",
       "      <td>1629901770406379521</td>\n",
       "      <td>NaN</td>\n",
       "      <td>NaN</td>\n",
       "      <td>app.authcustomer-webapps-serviceappstandard.ld...</td>\n",
       "      <td>NaN</td>\n",
       "    </tr>\n",
       "    <tr>\n",
       "      <th>35</th>\n",
       "      <td>1629917594764419078</td>\n",
       "      <td>NaN</td>\n",
       "      <td>NaN</td>\n",
       "      <td>NaN</td>\n",
       "      <td>we-playcs[.]ru</td>\n",
       "    </tr>\n",
       "    <tr>\n",
       "      <th>36</th>\n",
       "      <td>1629917774716739592</td>\n",
       "      <td>NaN</td>\n",
       "      <td>NaN</td>\n",
       "      <td>NaN</td>\n",
       "      <td>we-playcs[.]ru</td>\n",
       "    </tr>\n",
       "    <tr>\n",
       "      <th>37</th>\n",
       "      <td>1629948210327191557</td>\n",
       "      <td>hxxps://152[.]32[.]169[.]146/</td>\n",
       "      <td>152.32.169.146</td>\n",
       "      <td>NaN</td>\n",
       "      <td>152[.]32[.]169[.]146</td>\n",
       "    </tr>\n",
       "    <tr>\n",
       "      <th>38</th>\n",
       "      <td>1629963187893202945</td>\n",
       "      <td>hxxps://www[.]bpyrw[.]com/jp</td>\n",
       "      <td>155.94.182.113</td>\n",
       "      <td>NaN</td>\n",
       "      <td>www[.]bpyrw[.]com</td>\n",
       "    </tr>\n",
       "    <tr>\n",
       "      <th>39</th>\n",
       "      <td>1629978416945537024</td>\n",
       "      <td>hxxps://emmanuelmaldonado[.]com/</td>\n",
       "      <td>155.94.182.89</td>\n",
       "      <td>NaN</td>\n",
       "      <td>emmanuelmaldonado[.]com</td>\n",
       "    </tr>\n",
       "    <tr>\n",
       "      <th>40</th>\n",
       "      <td>1629993524652277762</td>\n",
       "      <td>hxxps://www[.]bqdhw[.]com/jp</td>\n",
       "      <td>155.94.182.113</td>\n",
       "      <td>NaN</td>\n",
       "      <td>www[.]bqdhw[.]com</td>\n",
       "    </tr>\n",
       "    <tr>\n",
       "      <th>41</th>\n",
       "      <td>1630023424331464704</td>\n",
       "      <td>hxxp://u1952304[.]cp[.]regruhosting[.]ru/</td>\n",
       "      <td>NaN</td>\n",
       "      <td>NaN</td>\n",
       "      <td>u1952304[.]cp[.]regruhosting[.]ru</td>\n",
       "    </tr>\n",
       "    <tr>\n",
       "      <th>42</th>\n",
       "      <td>1630114269348888577</td>\n",
       "      <td>NaN</td>\n",
       "      <td>NaN</td>\n",
       "      <td>NaN</td>\n",
       "      <td>nlbpaysi[.]com</td>\n",
       "    </tr>\n",
       "    <tr>\n",
       "      <th>43</th>\n",
       "      <td>1630204710182440961</td>\n",
       "      <td>hxxps://enterpasswordaccesscodetrewert[.]us-ea...</td>\n",
       "      <td>NaN</td>\n",
       "      <td>NaN</td>\n",
       "      <td>enterpasswordaccesscodetrewert[.]us-east-1[.]l...</td>\n",
       "    </tr>\n",
       "    <tr>\n",
       "      <th>44</th>\n",
       "      <td>1630250228988141571</td>\n",
       "      <td>hxxp://bankalhabib[.]com[.]paintechnology[.]in...</td>\n",
       "      <td>NaN</td>\n",
       "      <td>NaN</td>\n",
       "      <td>bankalhabib[.]com[.]paintechnology[.]in</td>\n",
       "    </tr>\n",
       "    <tr>\n",
       "      <th>45</th>\n",
       "      <td>1630280219838881793</td>\n",
       "      <td>hxxp://god-785[.]firebaseapp[.]com/</td>\n",
       "      <td>NaN</td>\n",
       "      <td>NaN</td>\n",
       "      <td>god-785[.]firebaseapp[.]com</td>\n",
       "    </tr>\n",
       "    <tr>\n",
       "      <th>46</th>\n",
       "      <td>1630416161149005826</td>\n",
       "      <td>hxxp://180[.]250[.]189[.]61/rf[.]php</td>\n",
       "      <td>NaN</td>\n",
       "      <td>NaN</td>\n",
       "      <td>180[.]250[.]189[.]61</td>\n",
       "    </tr>\n",
       "    <tr>\n",
       "      <th>47</th>\n",
       "      <td>1630446463611183106</td>\n",
       "      <td>hxxps://www[.]yuanu[.]vip/</td>\n",
       "      <td>38.54.89.237</td>\n",
       "      <td>NaN</td>\n",
       "      <td>www[.]yuanu[.]vip</td>\n",
       "    </tr>\n",
       "    <tr>\n",
       "      <th>48</th>\n",
       "      <td>1630535613026844672</td>\n",
       "      <td>hxxps://kush002[.]github[.]io/Text-area-HTML-L...</td>\n",
       "      <td>NaN</td>\n",
       "      <td>NaN</td>\n",
       "      <td>kush002[.]github[.]io</td>\n",
       "    </tr>\n",
       "    <tr>\n",
       "      <th>49</th>\n",
       "      <td>1630567266172510209</td>\n",
       "      <td>hxxp://www[.]pocketcacd[.]co[.]jp[.]pbtrle[.]top/</td>\n",
       "      <td>155.94.184.151</td>\n",
       "      <td>NaN</td>\n",
       "      <td>www[.]pocketcacd[.]co[.]jp[.]pbtrle[.]top</td>\n",
       "    </tr>\n",
       "    <tr>\n",
       "      <th>50</th>\n",
       "      <td>1630612459487739913</td>\n",
       "      <td>hxxps://exchangeportal-owa-auth-login-aspx-hyt...</td>\n",
       "      <td>NaN</td>\n",
       "      <td>NaN</td>\n",
       "      <td>exchangeportal-owa-auth-login-aspx-hyttgygh[.]...</td>\n",
       "    </tr>\n",
       "    <tr>\n",
       "      <th>51</th>\n",
       "      <td>1630718396378521600</td>\n",
       "      <td>hxxp://www[.]essiandco[.]com/jp</td>\n",
       "      <td>155.94.201.46</td>\n",
       "      <td>NaN</td>\n",
       "      <td>www[.]essiandco[.]com</td>\n",
       "    </tr>\n",
       "    <tr>\n",
       "      <th>52</th>\n",
       "      <td>1630718469728620544</td>\n",
       "      <td>hxxps://www-info-cr-mufg[.]weekeeweekee[.]com/</td>\n",
       "      <td>155.94.128.140</td>\n",
       "      <td>NaN</td>\n",
       "      <td>www-info-cr-mufg[.]weekeeweekee[.]com</td>\n",
       "    </tr>\n",
       "    <tr>\n",
       "      <th>53</th>\n",
       "      <td>1630733441393360897</td>\n",
       "      <td>hxxps://admtor[.]upesasu[.]cn/</td>\n",
       "      <td>194.116.216.205</td>\n",
       "      <td>NaN</td>\n",
       "      <td>admtor[.]upesasu[.]cn</td>\n",
       "    </tr>\n",
       "    <tr>\n",
       "      <th>54</th>\n",
       "      <td>1630733066900762625</td>\n",
       "      <td>hxxps://sbcantibot[.]ruixinzp[.]cn/</td>\n",
       "      <td>157.52.230.10</td>\n",
       "      <td>NaN</td>\n",
       "      <td>sbcantibot[.]ruixinzp[.]cn</td>\n",
       "    </tr>\n",
       "    <tr>\n",
       "      <th>55</th>\n",
       "      <td>1630762753240752128</td>\n",
       "      <td>hxxps://eki-neicom[.]ya-nesi[.]com/</td>\n",
       "      <td>217.195.205.42</td>\n",
       "      <td>NaN</td>\n",
       "      <td>eki-neicom[.]ya-nesi[.]com</td>\n",
       "    </tr>\n",
       "    <tr>\n",
       "      <th>56</th>\n",
       "      <td>1630762755086233602</td>\n",
       "      <td>hxxps://eki-neicom[.]ya-nesi[.]com/Personal/me...</td>\n",
       "      <td>NaN</td>\n",
       "      <td>NaN</td>\n",
       "      <td>eki-neicom[.]ya-nesi[.]com</td>\n",
       "    </tr>\n",
       "    <tr>\n",
       "      <th>57</th>\n",
       "      <td>1630778765637980160</td>\n",
       "      <td>hxxps://bpnnw[.]com/jp</td>\n",
       "      <td>42.6.176.115</td>\n",
       "      <td>NaN</td>\n",
       "      <td>bpnnw[.]com</td>\n",
       "    </tr>\n",
       "    <tr>\n",
       "      <th>58</th>\n",
       "      <td>1630793424931627008</td>\n",
       "      <td>hxxps://om-120[.]github[.]io/netflix/</td>\n",
       "      <td>NaN</td>\n",
       "      <td>NaN</td>\n",
       "      <td>om-120[.]github[.]io</td>\n",
       "    </tr>\n",
       "  </tbody>\n",
       "</table>\n",
       "</div>"
      ],
      "text/plain": [
       "                TweetID                                            IoCURLs  \\\n",
       "0   1629050806971297792       hxxp://rogil75702[.]temp[.]swtest[.]ru/c49f9   \n",
       "1   1629058798240337924                     hxxps://stemcommunitty[.]site/   \n",
       "2   1629058762970365954  hxxps://paypay-login[.]huahuayufeng[.]com/all/...   \n",
       "3   1629058784483020800                     hxxps://stemcommunitty[.]site/   \n",
       "4   1629072062672408576                              hxxps://metamasek.cc/   \n",
       "5   1629086571063349249  hxxps://demo3[.]cloudwp[.]dev/trial-2w15v757/r...   \n",
       "6   1629147729430552578                                                NaN   \n",
       "7   1629161485929783298        hxxp://xn--80aaahorunoimsf3p.xn--p1ai/apps/   \n",
       "8   1629191709438492672                  hxxps://accessolocalizzato[.]com/   \n",
       "9   1629222421105344512                                                NaN   \n",
       "10  1629283734057828352  hxxps://www[.]induoc-goto-etc-jp[.]blockchainl...   \n",
       "11  1629283752936452096  hxxp://www[.]kuerennkaycoato[.]co[.]jp[.]kuerc...   \n",
       "12  1629313508683952128  hxxps://denmarksexcams[.]com/_ap/signin?_encod...   \n",
       "13  1629313943150948352               hxxps://www[.]amazon[.]wokabj[.]top/   \n",
       "14  1629328443375534080                      hxxps://jabd-876[.]web[.]app/   \n",
       "15  1629343457662717953            hxxps://cariareynolds[.]com/link[.]html   \n",
       "16  1629344078792884227           hxxps://concepthairandbeauty[.]com[.]au/   \n",
       "17  1629374374531792899  hxxp://www[.]kueronekayaeotn[.]co[.]jp[.]kuero...   \n",
       "18  1629477974859816960  hxxp://cs02282[.]tw1[.]ru/agri-connexion/63284...   \n",
       "19  1629524676174045186            hxxps://nordgym29[.]ru/bitrix/admin/bp/   \n",
       "20  1629540205479821312  hxxp://www[.]kuerennkaycoato[.]co[.]jp[.]kuerc...   \n",
       "21  1629555497224241155                                                NaN   \n",
       "22  1629600891161522176  hxxp://www[.]pockctaaed[.]co[.]jp[.]sbebjv[.]t...   \n",
       "23  1629690445495402498                   hxxps://member.garage-verge.com/   \n",
       "24  1629690664211431424                                                NaN   \n",
       "25  1629691248477892608                                                NaN   \n",
       "26  1629706586527547393       hxxps://ahmed13m[.]github[.]io/NetFlix-Clone   \n",
       "27  1629735554936963072  hxxps://3[.]233[.]90[.]130/mua/USER/scis/j6UnV...   \n",
       "28  1629750912204898305                      hxxp://nkum-5354[.]web[.]app/   \n",
       "29  1629766070000054272  hxxps://intesasanpaolo[.]allsportsupdate24[.]com/   \n",
       "30  1629765502867324930        hxxp://vrgospelmusic[.]com/accessfilesvpms/   \n",
       "31  1629766058084007937  hxxps://intesasanpaolo[.]allsportsupdate24[.]com/   \n",
       "32  1629841611088699394  hxxps://lkrenwqutwspxa[.]clippertwa[.]workers[...   \n",
       "33  1629886525230964746  hxxp://jelly-creative-bean[.]glitch[.]me/ouyte...   \n",
       "34  1629901770406379521                                                NaN   \n",
       "35  1629917594764419078                                                NaN   \n",
       "36  1629917774716739592                                                NaN   \n",
       "37  1629948210327191557                      hxxps://152[.]32[.]169[.]146/   \n",
       "38  1629963187893202945                       hxxps://www[.]bpyrw[.]com/jp   \n",
       "39  1629978416945537024                   hxxps://emmanuelmaldonado[.]com/   \n",
       "40  1629993524652277762                       hxxps://www[.]bqdhw[.]com/jp   \n",
       "41  1630023424331464704          hxxp://u1952304[.]cp[.]regruhosting[.]ru/   \n",
       "42  1630114269348888577                                                NaN   \n",
       "43  1630204710182440961  hxxps://enterpasswordaccesscodetrewert[.]us-ea...   \n",
       "44  1630250228988141571  hxxp://bankalhabib[.]com[.]paintechnology[.]in...   \n",
       "45  1630280219838881793                hxxp://god-785[.]firebaseapp[.]com/   \n",
       "46  1630416161149005826               hxxp://180[.]250[.]189[.]61/rf[.]php   \n",
       "47  1630446463611183106                         hxxps://www[.]yuanu[.]vip/   \n",
       "48  1630535613026844672  hxxps://kush002[.]github[.]io/Text-area-HTML-L...   \n",
       "49  1630567266172510209  hxxp://www[.]pocketcacd[.]co[.]jp[.]pbtrle[.]top/   \n",
       "50  1630612459487739913  hxxps://exchangeportal-owa-auth-login-aspx-hyt...   \n",
       "51  1630718396378521600                    hxxp://www[.]essiandco[.]com/jp   \n",
       "52  1630718469728620544     hxxps://www-info-cr-mufg[.]weekeeweekee[.]com/   \n",
       "53  1630733441393360897                     hxxps://admtor[.]upesasu[.]cn/   \n",
       "54  1630733066900762625                hxxps://sbcantibot[.]ruixinzp[.]cn/   \n",
       "55  1630762753240752128                hxxps://eki-neicom[.]ya-nesi[.]com/   \n",
       "56  1630762755086233602  hxxps://eki-neicom[.]ya-nesi[.]com/Personal/me...   \n",
       "57  1630778765637980160                             hxxps://bpnnw[.]com/jp   \n",
       "58  1630793424931627008              hxxps://om-120[.]github[.]io/netflix/   \n",
       "\n",
       "           IoCIPv4s                                          IoCEmails  \\\n",
       "0               NaN                                                NaN   \n",
       "1               NaN                                                NaN   \n",
       "2    155.94.128.125                                                NaN   \n",
       "3               NaN                                                NaN   \n",
       "4    103.149.92.146                                                NaN   \n",
       "5               NaN                                                NaN   \n",
       "6       186.2.171.2                                                NaN   \n",
       "7               NaN                                                NaN   \n",
       "8               NaN                                                NaN   \n",
       "9               NaN                                                NaN   \n",
       "10              NaN                                                NaN   \n",
       "11    155.94.184.75                                                NaN   \n",
       "12              NaN                                                NaN   \n",
       "13    106.75.17.135                                                NaN   \n",
       "14              NaN                                                NaN   \n",
       "15              NaN                                                NaN   \n",
       "16              NaN                                                NaN   \n",
       "17    155.94.184.75                                                NaN   \n",
       "18              NaN                                                NaN   \n",
       "19              NaN                                                NaN   \n",
       "20    155.94.184.75                                                NaN   \n",
       "21  185.149.120.137                                                NaN   \n",
       "22   155.94.184.151                                                NaN   \n",
       "23    204.44.95.128                                                NaN   \n",
       "24              NaN                                                NaN   \n",
       "25              NaN                                                NaN   \n",
       "26              NaN                                                NaN   \n",
       "27              NaN                                                NaN   \n",
       "28              NaN                                                NaN   \n",
       "29              NaN                                                NaN   \n",
       "30              NaN                                                NaN   \n",
       "31              NaN                                                NaN   \n",
       "32              NaN                                                NaN   \n",
       "33              NaN                                                NaN   \n",
       "34              NaN  app.authcustomer-webapps-serviceappstandard.ld...   \n",
       "35              NaN                                                NaN   \n",
       "36              NaN                                                NaN   \n",
       "37   152.32.169.146                                                NaN   \n",
       "38   155.94.182.113                                                NaN   \n",
       "39    155.94.182.89                                                NaN   \n",
       "40   155.94.182.113                                                NaN   \n",
       "41              NaN                                                NaN   \n",
       "42              NaN                                                NaN   \n",
       "43              NaN                                                NaN   \n",
       "44              NaN                                                NaN   \n",
       "45              NaN                                                NaN   \n",
       "46              NaN                                                NaN   \n",
       "47     38.54.89.237                                                NaN   \n",
       "48              NaN                                                NaN   \n",
       "49   155.94.184.151                                                NaN   \n",
       "50              NaN                                                NaN   \n",
       "51    155.94.201.46                                                NaN   \n",
       "52   155.94.128.140                                                NaN   \n",
       "53  194.116.216.205                                                NaN   \n",
       "54    157.52.230.10                                                NaN   \n",
       "55   217.195.205.42                                                NaN   \n",
       "56              NaN                                                NaN   \n",
       "57     42.6.176.115                                                NaN   \n",
       "58              NaN                                                NaN   \n",
       "\n",
       "                                           IoCDomains  \n",
       "0                     rogil75702[.]temp[.]swtest[.]ru  \n",
       "1                               stemcommunitty[.]site  \n",
       "2                   paypay-login[.]huahuayufeng[.]com  \n",
       "3                               stemcommunitty[.]site  \n",
       "4                                                 NaN  \n",
       "5                               demo3[.]cloudwp[.]dev  \n",
       "6                                 buradanaksen[.]site  \n",
       "7                                                 NaN  \n",
       "8                            accessolocalizzato[.]com  \n",
       "9                                     myshopify[.]com  \n",
       "10  www[.]induoc-goto-etc-jp[.]blockchainltd[.]com...  \n",
       "11  www[.]kuerennkaycoato[.]co[.]jp[.]kuercnnkayce...  \n",
       "12                               denmarksexcams[.]com  \n",
       "13                        www[.]amazon[.]wokabj[.]top  \n",
       "14                               jabd-876[.]web[.]app  \n",
       "15                                cariareynolds[.]com  \n",
       "16                    concepthairandbeauty[.]com[.]au  \n",
       "17  www[.]kueronekayaeotn[.]co[.]jp[.]kuerocekayac...  \n",
       "18                                 cs02282[.]tw1[.]ru  \n",
       "19                                     nordgym29[.]ru  \n",
       "20  www[.]kuerennkaycoato[.]co[.]jp[.]kuercnnkayce...  \n",
       "21                                                NaN  \n",
       "22          www[.]pockctaaed[.]co[.]jp[.]sbebjv[.]top  \n",
       "23                                                NaN  \n",
       "24                                clientesluiza[.]com  \n",
       "25                                clientesluiza[.]com  \n",
       "26                             ahmed13m[.]github[.]io  \n",
       "27                                 3[.]233[.]90[.]130  \n",
       "28                              nkum-5354[.]web[.]app  \n",
       "29           intesasanpaolo[.]allsportsupdate24[.]com  \n",
       "30                                vrgospelmusic[.]com  \n",
       "31           intesasanpaolo[.]allsportsupdate24[.]com  \n",
       "32        lkrenwqutwspxa[.]clippertwa[.]workers[.]dev  \n",
       "33                  jelly-creative-bean[.]glitch[.]me  \n",
       "34                                                NaN  \n",
       "35                                     we-playcs[.]ru  \n",
       "36                                     we-playcs[.]ru  \n",
       "37                               152[.]32[.]169[.]146  \n",
       "38                                  www[.]bpyrw[.]com  \n",
       "39                            emmanuelmaldonado[.]com  \n",
       "40                                  www[.]bqdhw[.]com  \n",
       "41                  u1952304[.]cp[.]regruhosting[.]ru  \n",
       "42                                     nlbpaysi[.]com  \n",
       "43  enterpasswordaccesscodetrewert[.]us-east-1[.]l...  \n",
       "44            bankalhabib[.]com[.]paintechnology[.]in  \n",
       "45                        god-785[.]firebaseapp[.]com  \n",
       "46                               180[.]250[.]189[.]61  \n",
       "47                                  www[.]yuanu[.]vip  \n",
       "48                              kush002[.]github[.]io  \n",
       "49          www[.]pocketcacd[.]co[.]jp[.]pbtrle[.]top  \n",
       "50  exchangeportal-owa-auth-login-aspx-hyttgygh[.]...  \n",
       "51                              www[.]essiandco[.]com  \n",
       "52              www-info-cr-mufg[.]weekeeweekee[.]com  \n",
       "53                              admtor[.]upesasu[.]cn  \n",
       "54                         sbcantibot[.]ruixinzp[.]cn  \n",
       "55                         eki-neicom[.]ya-nesi[.]com  \n",
       "56                         eki-neicom[.]ya-nesi[.]com  \n",
       "57                                        bpnnw[.]com  \n",
       "58                               om-120[.]github[.]io  "
      ]
     },
     "execution_count": 8,
     "metadata": {},
     "output_type": "execute_result"
    }
   ],
   "source": [
    "# Drop NaN Values on IoCs Columns\n",
    "IoC_df_NNAN = IoC_df.dropna(subset=['IoCURLs', 'IoCIPv4s', 'IoCEmails', 'IoCDomains'], how='all').reset_index(drop=True)\n",
    "IoC_df_NNAN"
   ]
  },
  {
   "cell_type": "code",
   "execution_count": 9,
   "id": "c0c8c09c",
   "metadata": {},
   "outputs": [
    {
     "data": {
      "application/vnd.plotly.v1+json": {
       "config": {
        "plotlyServerURL": "https://plot.ly"
       },
       "data": [
        {
         "name": "URLs",
         "type": "bar",
         "x": [
          "Types Of Indicators"
         ],
         "y": [
          50
         ]
        },
        {
         "name": "IPv4s",
         "type": "bar",
         "x": [
          "Types Of Indicators"
         ],
         "y": [
          22
         ]
        },
        {
         "name": "Emails",
         "type": "bar",
         "x": [
          "Types Of Indicators"
         ],
         "y": [
          1
         ]
        },
        {
         "name": "Domains",
         "type": "bar",
         "x": [
          "Types Of Indicators"
         ],
         "y": [
          54
         ]
        }
       ],
       "layout": {
        "barmode": "stack",
        "template": {
         "data": {
          "bar": [
           {
            "error_x": {
             "color": "#2a3f5f"
            },
            "error_y": {
             "color": "#2a3f5f"
            },
            "marker": {
             "line": {
              "color": "#E5ECF6",
              "width": 0.5
             },
             "pattern": {
              "fillmode": "overlay",
              "size": 10,
              "solidity": 0.2
             }
            },
            "type": "bar"
           }
          ],
          "barpolar": [
           {
            "marker": {
             "line": {
              "color": "#E5ECF6",
              "width": 0.5
             },
             "pattern": {
              "fillmode": "overlay",
              "size": 10,
              "solidity": 0.2
             }
            },
            "type": "barpolar"
           }
          ],
          "carpet": [
           {
            "aaxis": {
             "endlinecolor": "#2a3f5f",
             "gridcolor": "white",
             "linecolor": "white",
             "minorgridcolor": "white",
             "startlinecolor": "#2a3f5f"
            },
            "baxis": {
             "endlinecolor": "#2a3f5f",
             "gridcolor": "white",
             "linecolor": "white",
             "minorgridcolor": "white",
             "startlinecolor": "#2a3f5f"
            },
            "type": "carpet"
           }
          ],
          "choropleth": [
           {
            "colorbar": {
             "outlinewidth": 0,
             "ticks": ""
            },
            "type": "choropleth"
           }
          ],
          "contour": [
           {
            "colorbar": {
             "outlinewidth": 0,
             "ticks": ""
            },
            "colorscale": [
             [
              0,
              "#0d0887"
             ],
             [
              0.1111111111111111,
              "#46039f"
             ],
             [
              0.2222222222222222,
              "#7201a8"
             ],
             [
              0.3333333333333333,
              "#9c179e"
             ],
             [
              0.4444444444444444,
              "#bd3786"
             ],
             [
              0.5555555555555556,
              "#d8576b"
             ],
             [
              0.6666666666666666,
              "#ed7953"
             ],
             [
              0.7777777777777778,
              "#fb9f3a"
             ],
             [
              0.8888888888888888,
              "#fdca26"
             ],
             [
              1,
              "#f0f921"
             ]
            ],
            "type": "contour"
           }
          ],
          "contourcarpet": [
           {
            "colorbar": {
             "outlinewidth": 0,
             "ticks": ""
            },
            "type": "contourcarpet"
           }
          ],
          "heatmap": [
           {
            "colorbar": {
             "outlinewidth": 0,
             "ticks": ""
            },
            "colorscale": [
             [
              0,
              "#0d0887"
             ],
             [
              0.1111111111111111,
              "#46039f"
             ],
             [
              0.2222222222222222,
              "#7201a8"
             ],
             [
              0.3333333333333333,
              "#9c179e"
             ],
             [
              0.4444444444444444,
              "#bd3786"
             ],
             [
              0.5555555555555556,
              "#d8576b"
             ],
             [
              0.6666666666666666,
              "#ed7953"
             ],
             [
              0.7777777777777778,
              "#fb9f3a"
             ],
             [
              0.8888888888888888,
              "#fdca26"
             ],
             [
              1,
              "#f0f921"
             ]
            ],
            "type": "heatmap"
           }
          ],
          "heatmapgl": [
           {
            "colorbar": {
             "outlinewidth": 0,
             "ticks": ""
            },
            "colorscale": [
             [
              0,
              "#0d0887"
             ],
             [
              0.1111111111111111,
              "#46039f"
             ],
             [
              0.2222222222222222,
              "#7201a8"
             ],
             [
              0.3333333333333333,
              "#9c179e"
             ],
             [
              0.4444444444444444,
              "#bd3786"
             ],
             [
              0.5555555555555556,
              "#d8576b"
             ],
             [
              0.6666666666666666,
              "#ed7953"
             ],
             [
              0.7777777777777778,
              "#fb9f3a"
             ],
             [
              0.8888888888888888,
              "#fdca26"
             ],
             [
              1,
              "#f0f921"
             ]
            ],
            "type": "heatmapgl"
           }
          ],
          "histogram": [
           {
            "marker": {
             "pattern": {
              "fillmode": "overlay",
              "size": 10,
              "solidity": 0.2
             }
            },
            "type": "histogram"
           }
          ],
          "histogram2d": [
           {
            "colorbar": {
             "outlinewidth": 0,
             "ticks": ""
            },
            "colorscale": [
             [
              0,
              "#0d0887"
             ],
             [
              0.1111111111111111,
              "#46039f"
             ],
             [
              0.2222222222222222,
              "#7201a8"
             ],
             [
              0.3333333333333333,
              "#9c179e"
             ],
             [
              0.4444444444444444,
              "#bd3786"
             ],
             [
              0.5555555555555556,
              "#d8576b"
             ],
             [
              0.6666666666666666,
              "#ed7953"
             ],
             [
              0.7777777777777778,
              "#fb9f3a"
             ],
             [
              0.8888888888888888,
              "#fdca26"
             ],
             [
              1,
              "#f0f921"
             ]
            ],
            "type": "histogram2d"
           }
          ],
          "histogram2dcontour": [
           {
            "colorbar": {
             "outlinewidth": 0,
             "ticks": ""
            },
            "colorscale": [
             [
              0,
              "#0d0887"
             ],
             [
              0.1111111111111111,
              "#46039f"
             ],
             [
              0.2222222222222222,
              "#7201a8"
             ],
             [
              0.3333333333333333,
              "#9c179e"
             ],
             [
              0.4444444444444444,
              "#bd3786"
             ],
             [
              0.5555555555555556,
              "#d8576b"
             ],
             [
              0.6666666666666666,
              "#ed7953"
             ],
             [
              0.7777777777777778,
              "#fb9f3a"
             ],
             [
              0.8888888888888888,
              "#fdca26"
             ],
             [
              1,
              "#f0f921"
             ]
            ],
            "type": "histogram2dcontour"
           }
          ],
          "mesh3d": [
           {
            "colorbar": {
             "outlinewidth": 0,
             "ticks": ""
            },
            "type": "mesh3d"
           }
          ],
          "parcoords": [
           {
            "line": {
             "colorbar": {
              "outlinewidth": 0,
              "ticks": ""
             }
            },
            "type": "parcoords"
           }
          ],
          "pie": [
           {
            "automargin": true,
            "type": "pie"
           }
          ],
          "scatter": [
           {
            "fillpattern": {
             "fillmode": "overlay",
             "size": 10,
             "solidity": 0.2
            },
            "type": "scatter"
           }
          ],
          "scatter3d": [
           {
            "line": {
             "colorbar": {
              "outlinewidth": 0,
              "ticks": ""
             }
            },
            "marker": {
             "colorbar": {
              "outlinewidth": 0,
              "ticks": ""
             }
            },
            "type": "scatter3d"
           }
          ],
          "scattercarpet": [
           {
            "marker": {
             "colorbar": {
              "outlinewidth": 0,
              "ticks": ""
             }
            },
            "type": "scattercarpet"
           }
          ],
          "scattergeo": [
           {
            "marker": {
             "colorbar": {
              "outlinewidth": 0,
              "ticks": ""
             }
            },
            "type": "scattergeo"
           }
          ],
          "scattergl": [
           {
            "marker": {
             "colorbar": {
              "outlinewidth": 0,
              "ticks": ""
             }
            },
            "type": "scattergl"
           }
          ],
          "scattermapbox": [
           {
            "marker": {
             "colorbar": {
              "outlinewidth": 0,
              "ticks": ""
             }
            },
            "type": "scattermapbox"
           }
          ],
          "scatterpolar": [
           {
            "marker": {
             "colorbar": {
              "outlinewidth": 0,
              "ticks": ""
             }
            },
            "type": "scatterpolar"
           }
          ],
          "scatterpolargl": [
           {
            "marker": {
             "colorbar": {
              "outlinewidth": 0,
              "ticks": ""
             }
            },
            "type": "scatterpolargl"
           }
          ],
          "scatterternary": [
           {
            "marker": {
             "colorbar": {
              "outlinewidth": 0,
              "ticks": ""
             }
            },
            "type": "scatterternary"
           }
          ],
          "surface": [
           {
            "colorbar": {
             "outlinewidth": 0,
             "ticks": ""
            },
            "colorscale": [
             [
              0,
              "#0d0887"
             ],
             [
              0.1111111111111111,
              "#46039f"
             ],
             [
              0.2222222222222222,
              "#7201a8"
             ],
             [
              0.3333333333333333,
              "#9c179e"
             ],
             [
              0.4444444444444444,
              "#bd3786"
             ],
             [
              0.5555555555555556,
              "#d8576b"
             ],
             [
              0.6666666666666666,
              "#ed7953"
             ],
             [
              0.7777777777777778,
              "#fb9f3a"
             ],
             [
              0.8888888888888888,
              "#fdca26"
             ],
             [
              1,
              "#f0f921"
             ]
            ],
            "type": "surface"
           }
          ],
          "table": [
           {
            "cells": {
             "fill": {
              "color": "#EBF0F8"
             },
             "line": {
              "color": "white"
             }
            },
            "header": {
             "fill": {
              "color": "#C8D4E3"
             },
             "line": {
              "color": "white"
             }
            },
            "type": "table"
           }
          ]
         },
         "layout": {
          "annotationdefaults": {
           "arrowcolor": "#2a3f5f",
           "arrowhead": 0,
           "arrowwidth": 1
          },
          "autotypenumbers": "strict",
          "coloraxis": {
           "colorbar": {
            "outlinewidth": 0,
            "ticks": ""
           }
          },
          "colorscale": {
           "diverging": [
            [
             0,
             "#8e0152"
            ],
            [
             0.1,
             "#c51b7d"
            ],
            [
             0.2,
             "#de77ae"
            ],
            [
             0.3,
             "#f1b6da"
            ],
            [
             0.4,
             "#fde0ef"
            ],
            [
             0.5,
             "#f7f7f7"
            ],
            [
             0.6,
             "#e6f5d0"
            ],
            [
             0.7,
             "#b8e186"
            ],
            [
             0.8,
             "#7fbc41"
            ],
            [
             0.9,
             "#4d9221"
            ],
            [
             1,
             "#276419"
            ]
           ],
           "sequential": [
            [
             0,
             "#0d0887"
            ],
            [
             0.1111111111111111,
             "#46039f"
            ],
            [
             0.2222222222222222,
             "#7201a8"
            ],
            [
             0.3333333333333333,
             "#9c179e"
            ],
            [
             0.4444444444444444,
             "#bd3786"
            ],
            [
             0.5555555555555556,
             "#d8576b"
            ],
            [
             0.6666666666666666,
             "#ed7953"
            ],
            [
             0.7777777777777778,
             "#fb9f3a"
            ],
            [
             0.8888888888888888,
             "#fdca26"
            ],
            [
             1,
             "#f0f921"
            ]
           ],
           "sequentialminus": [
            [
             0,
             "#0d0887"
            ],
            [
             0.1111111111111111,
             "#46039f"
            ],
            [
             0.2222222222222222,
             "#7201a8"
            ],
            [
             0.3333333333333333,
             "#9c179e"
            ],
            [
             0.4444444444444444,
             "#bd3786"
            ],
            [
             0.5555555555555556,
             "#d8576b"
            ],
            [
             0.6666666666666666,
             "#ed7953"
            ],
            [
             0.7777777777777778,
             "#fb9f3a"
            ],
            [
             0.8888888888888888,
             "#fdca26"
            ],
            [
             1,
             "#f0f921"
            ]
           ]
          },
          "colorway": [
           "#636efa",
           "#EF553B",
           "#00cc96",
           "#ab63fa",
           "#FFA15A",
           "#19d3f3",
           "#FF6692",
           "#B6E880",
           "#FF97FF",
           "#FECB52"
          ],
          "font": {
           "color": "#2a3f5f"
          },
          "geo": {
           "bgcolor": "white",
           "lakecolor": "white",
           "landcolor": "#E5ECF6",
           "showlakes": true,
           "showland": true,
           "subunitcolor": "white"
          },
          "hoverlabel": {
           "align": "left"
          },
          "hovermode": "closest",
          "mapbox": {
           "style": "light"
          },
          "paper_bgcolor": "white",
          "plot_bgcolor": "#E5ECF6",
          "polar": {
           "angularaxis": {
            "gridcolor": "white",
            "linecolor": "white",
            "ticks": ""
           },
           "bgcolor": "#E5ECF6",
           "radialaxis": {
            "gridcolor": "white",
            "linecolor": "white",
            "ticks": ""
           }
          },
          "scene": {
           "xaxis": {
            "backgroundcolor": "#E5ECF6",
            "gridcolor": "white",
            "gridwidth": 2,
            "linecolor": "white",
            "showbackground": true,
            "ticks": "",
            "zerolinecolor": "white"
           },
           "yaxis": {
            "backgroundcolor": "#E5ECF6",
            "gridcolor": "white",
            "gridwidth": 2,
            "linecolor": "white",
            "showbackground": true,
            "ticks": "",
            "zerolinecolor": "white"
           },
           "zaxis": {
            "backgroundcolor": "#E5ECF6",
            "gridcolor": "white",
            "gridwidth": 2,
            "linecolor": "white",
            "showbackground": true,
            "ticks": "",
            "zerolinecolor": "white"
           }
          },
          "shapedefaults": {
           "line": {
            "color": "#2a3f5f"
           }
          },
          "ternary": {
           "aaxis": {
            "gridcolor": "white",
            "linecolor": "white",
            "ticks": ""
           },
           "baxis": {
            "gridcolor": "white",
            "linecolor": "white",
            "ticks": ""
           },
           "bgcolor": "#E5ECF6",
           "caxis": {
            "gridcolor": "white",
            "linecolor": "white",
            "ticks": ""
           }
          },
          "title": {
           "x": 0.05
          },
          "xaxis": {
           "automargin": true,
           "gridcolor": "white",
           "linecolor": "white",
           "ticks": "",
           "title": {
            "standoff": 15
           },
           "zerolinecolor": "white",
           "zerolinewidth": 2
          },
          "yaxis": {
           "automargin": true,
           "gridcolor": "white",
           "linecolor": "white",
           "ticks": "",
           "title": {
            "standoff": 15
           },
           "zerolinecolor": "white",
           "zerolinewidth": 2
          }
         }
        },
        "xaxis": {
         "categoryorder": "category ascending"
        }
       }
      }
     },
     "metadata": {},
     "output_type": "display_data"
    }
   ],
   "source": [
    "# Types Of IoCs by Bar Chart\n",
    "x = [\"Types Of Indicators\"]\n",
    "Sercounts = IoC_df_NNAN[['IoCURLs', 'IoCIPv4s', 'IoCEmails', 'IoCDomains']].apply(lambda x: sum(x.notnull()))\n",
    "\n",
    "fig = go.Figure(go.Bar(x=x, y=[Sercounts.IoCURLs], name='URLs'))\n",
    "fig.add_trace(go.Bar(x=x, y=[Sercounts.IoCIPv4s], name='IPv4s'))\n",
    "fig.add_trace(go.Bar(x=x, y=[Sercounts.IoCEmails], name='Emails'))\n",
    "fig.add_trace(go.Bar(x=x, y=[Sercounts.IoCDomains], name='Domains'))\n",
    "\n",
    "fig.update_layout(barmode='stack', xaxis={'categoryorder':'category ascending'})\n",
    "fig.show()"
   ]
  },
  {
   "attachments": {},
   "cell_type": "markdown",
   "id": "b8622ad1",
   "metadata": {},
   "source": [
    "3. Create an *Authentification Key* bound to the Publisher user. "
   ]
  },
  {
   "cell_type": "code",
   "execution_count": 27,
   "id": "55832ea5",
   "metadata": {},
   "outputs": [],
   "source": [
    "# Add Attribute From a given list to an Event\n",
    "def add_attribute_fromList(MISPInstance, eventID, List, type):\n",
    "    for attr in List:\n",
    "        misp_attribute = MISPAttribute()\n",
    "\n",
    "        misp_attribute.value = str(attr)\n",
    "        misp_attribute.category = str(\"Network activity\")\n",
    "        misp_attribute.type = str(type)\n",
    "        misp_attribute.add_tag(\"Phishing\")\n",
    "\n",
    "        MISPInstance.add_attribute(eventID, misp_attribute)"
   ]
  },
  {
   "cell_type": "code",
   "execution_count": 28,
   "id": "f8da7fc2",
   "metadata": {},
   "outputs": [],
   "source": [
    "warnings.filterwarnings(\"ignore\")\n",
    "\n",
    "# Add Collected IoCs to Local MISP Instance\n",
    "## Ignoring the certificate verification\n",
    "\n",
    "misp_url = \"https://localhost\"\n",
    "misp_key = \"API-KEY\"\n",
    "misp_verifycert = False\n",
    "\n",
    "myMISPInstance = PyMISP( misp_url , misp_key , misp_verifycert , \"json\" )\n",
    "\n",
    "listOfUrls = list(IoC_df_NNAN['IoCURLs'].dropna())\n",
    "listOfIpv4 = list(IoC_df_NNAN['IoCIPv4s'].dropna())\n",
    "listOfEmails = list(IoC_df_NNAN['IoCEmails'].dropna())\n",
    "listOfDomains = list(IoC_df_NNAN['IoCDomains'].dropna())\n",
    "\n",
    "# Example\n",
    "add_attribute_fromList(myMISPInstance, \"3\", listOfEmails, \"email\")\n"
   ]
  }
 ],
 "metadata": {
  "kernelspec": {
   "display_name": "Python 3",
   "language": "python",
   "name": "python3"
  },
  "language_info": {
   "codemirror_mode": {
    "name": "ipython",
    "version": 3
   },
   "file_extension": ".py",
   "mimetype": "text/x-python",
   "name": "python",
   "nbconvert_exporter": "python",
   "pygments_lexer": "ipython3",
   "version": "3.10.6"
  },
  "vscode": {
   "interpreter": {
    "hash": "b40c2aa1b6fe73686b04865f8292b2e50f677816e2beb6f1186db041a9e7d556"
   }
  }
 },
 "nbformat": 4,
 "nbformat_minor": 5
}
